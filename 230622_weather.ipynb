{
  "nbformat": 4,
  "nbformat_minor": 0,
  "metadata": {
    "colab": {
      "provenance": []
    },
    "kernelspec": {
      "name": "python3",
      "display_name": "Python 3"
    },
    "language_info": {
      "name": "python"
    }
  },
  "cells": [
    {
      "cell_type": "code",
      "execution_count": null,
      "metadata": {
        "id": "oNpbV8zx8QGw"
      },
      "outputs": [],
      "source": [
        "# svc, image processing, try weather forecast"
      ]
    },
    {
      "cell_type": "markdown",
      "source": [
        "# Weather Forecast"
      ],
      "metadata": {
        "id": "5dtuIdCwEJyJ"
      }
    },
    {
      "cell_type": "code",
      "source": [
        "import requests\n",
        "from bs4 import BeautifulSoup as bs\n",
        "import pandas as pd\n",
        "import re\n",
        "import numpy as np\n",
        "from glob import glob\n",
        "from datetime import datetime"
      ],
      "metadata": {
        "id": "uBUjXepgb08V"
      },
      "execution_count": null,
      "outputs": []
    },
    {
      "cell_type": "code",
      "source": [
        "url = 'https://censusindia.gov.in/2011census/C-series/C-13.html'\n",
        "page = requests.get(url)\n",
        "soup = bs(page.text, 'html.parser')\n",
        "\n",
        "links_pdf = []\n",
        "links_excel = []\n",
        "for link in soup.find_all('a'):\n",
        "    h_link = link.get('href')\n",
        "    if h_link.startswith('http'):\n",
        "        if h_link.endswith('pdf'):\n",
        "            links_pdf.append(h_link)\n",
        "        if h_link.endswith('xlsx') or h_link.endswith('xls'):\n",
        "            links_excel.append(h_link)\n",
        "\n",
        "print(f\"Spreadsheets: {len(links_excel)}\\nPDF Files:     {len(links_pdf)}\")"
      ],
      "metadata": {
        "colab": {
          "base_uri": "https://localhost:8080/"
        },
        "id": "d53GKd9SEWzE",
        "outputId": "ff68bb81-98f1-4673-a344-e88688056775"
      },
      "execution_count": null,
      "outputs": [
        {
          "output_type": "stream",
          "name": "stdout",
          "text": [
            "Spreadsheets: 0\n",
            "PDF Files:     0\n"
          ]
        }
      ]
    },
    {
      "cell_type": "code",
      "source": [
        "mumbai = 'mum'"
      ],
      "metadata": {
        "id": "OUtEkHKlEb87"
      },
      "execution_count": null,
      "outputs": []
    },
    {
      "cell_type": "code",
      "source": [
        "page = requests.get(\"https://dataquestio.github.io/web-scraping-pages/simple.html\")\n",
        "print(page)\n",
        "print(f\"\\nHTML Contents of the page:\\n{page.content}\")"
      ],
      "metadata": {
        "colab": {
          "base_uri": "https://localhost:8080/"
        },
        "id": "BHU_YVW3HKRY",
        "outputId": "0cc9c683-48b9-4ae2-a276-5cb05b312f60"
      },
      "execution_count": null,
      "outputs": [
        {
          "output_type": "stream",
          "name": "stdout",
          "text": [
            "<Response [200]>\n",
            "\n",
            "HTML Contents of the page:\n",
            "b'<!DOCTYPE html>\\n<html>\\n    <head>\\n        <title>A simple example page</title>\\n    </head>\\n    <body>\\n        <p>Here is some simple content for this page.</p>\\n    </body>\\n</html>'\n"
          ]
        }
      ]
    },
    {
      "cell_type": "code",
      "source": [
        "soup = bs(page.content, 'html.parser') # soup now has the entire HTML conents of the URL\n",
        "# print the HTML content of the page\n",
        "print(soup.prettify())"
      ],
      "metadata": {
        "colab": {
          "base_uri": "https://localhost:8080/"
        },
        "id": "9YGBqaztHMIz",
        "outputId": "14303b90-c423-40d9-c021-1f5ec33b8cb2"
      },
      "execution_count": null,
      "outputs": [
        {
          "output_type": "stream",
          "name": "stdout",
          "text": [
            "<!DOCTYPE html>\n",
            "<html>\n",
            " <head>\n",
            "  <title>\n",
            "   A simple example page\n",
            "  </title>\n",
            " </head>\n",
            " <body>\n",
            "  <p>\n",
            "   Here is some simple content for this page.\n",
            "  </p>\n",
            " </body>\n",
            "</html>\n"
          ]
        }
      ]
    },
    {
      "cell_type": "code",
      "source": [
        "list(soup.children)"
      ],
      "metadata": {
        "colab": {
          "base_uri": "https://localhost:8080/"
        },
        "id": "qGGQPZSoHRAb",
        "outputId": "7d7ad9da-5296-4eba-ef64-4a0c73eccde1"
      },
      "execution_count": null,
      "outputs": [
        {
          "output_type": "execute_result",
          "data": {
            "text/plain": [
              "['html',\n",
              " '\\n',\n",
              " <html>\n",
              " <head>\n",
              " <title>A simple example page</title>\n",
              " </head>\n",
              " <body>\n",
              " <p>Here is some simple content for this page.</p>\n",
              " </body>\n",
              " </html>]"
            ]
          },
          "metadata": {},
          "execution_count": 7
        }
      ]
    },
    {
      "cell_type": "code",
      "source": [
        "weatherURL = 'https://www.bbc.com/weather/1275339/'  # Mumbai\n",
        "page = requests.get(weatherURL)\n",
        "soup = bs(page.text, 'html.parser')\n",
        "\n",
        "links = soup.find_all('a')\n",
        "for l in links:\n",
        "    print(l['href'])"
      ],
      "metadata": {
        "colab": {
          "base_uri": "https://localhost:8080/"
        },
        "id": "gZNWoQjbHoMH",
        "outputId": "33e4c9bb-3a02-4734-8169-c3744fff5d58"
      },
      "execution_count": null,
      "outputs": [
        {
          "output_type": "stream",
          "name": "stdout",
          "text": [
            "https://www.bbc.co.uk\n",
            "#wr-location-name-id\n",
            "https://www.bbc.co.uk/accessibility/\n",
            "https://account.bbc.com/account\n",
            "https://www.bbc.co.uk/notifications\n",
            "https://www.bbc.co.uk\n",
            "https://www.bbc.co.uk/news\n",
            "https://www.bbc.co.uk/sport\n",
            "https://www.bbc.co.uk/weather\n",
            "https://www.bbc.co.uk/iplayer\n",
            "https://www.bbc.co.uk/sounds\n",
            "https://www.bbc.co.uk/bitesize\n",
            "https://www.bbc.co.uk/cbeebies\n",
            "https://www.bbc.co.uk/cbbc\n",
            "https://www.bbc.co.uk/food\n",
            "https://www.bbc.com/\n",
            "https://www.bbc.com/news\n",
            "https://www.bbc.com/sport\n",
            "https://www.bbc.com/reel\n",
            "https://www.bbc.com/worklife\n",
            "https://www.bbc.com/travel\n",
            "https://www.bbc.com/future\n",
            "https://www.bbc.com/culture\n",
            "https://www.bbc.co.uk/schedules/p00fzl9m\n",
            "https://www.bbc.com/weather\n",
            "https://www.bbc.co.uk/sounds\n",
            "#orbit-more-drawer\n",
            "https://search.bbc.co.uk/search?scope=all&destination=weather_gnl\n",
            "https://www.bbc.co.uk\n",
            "https://www.bbc.co.uk/news\n",
            "https://www.bbc.co.uk/sport\n",
            "https://www.bbc.co.uk/weather\n",
            "https://www.bbc.co.uk/iplayer\n",
            "https://www.bbc.co.uk/sounds\n",
            "https://www.bbc.co.uk/bitesize\n",
            "https://www.bbc.co.uk/cbeebies\n",
            "https://www.bbc.co.uk/cbbc\n",
            "https://www.bbc.co.uk/food\n",
            "https://www.bbc.com/\n",
            "https://www.bbc.com/news\n",
            "https://www.bbc.com/sport\n",
            "https://www.bbc.com/reel\n",
            "https://www.bbc.com/worklife\n",
            "https://www.bbc.com/travel\n",
            "https://www.bbc.com/future\n",
            "https://www.bbc.com/culture\n",
            "https://www.bbc.co.uk/schedules/p00fzl9m\n",
            "https://www.bbc.com/weather\n",
            "https://www.bbc.co.uk/sounds\n",
            "#\n",
            "/weather\n",
            "/weather/search\n",
            "/weather/1275339\n",
            "#warnings\n",
            "/weather/1275339/today\n",
            "/weather/1275339/day1\n",
            "/weather/1275339/day2\n",
            "/weather/1275339/day3\n",
            "/weather/1275339/day4\n",
            "/weather/1275339/day5\n",
            "/weather/1275339/day6\n",
            "/weather/1275339/day7\n",
            "/weather/1275339/day8\n",
            "/weather/1275339/day9\n",
            "/weather/1275339/day10\n",
            "/weather/1275339/day11\n",
            "/weather/1275339/day12\n",
            "/weather/1275339/day13\n",
            "#orb-modules\n",
            "#warnings\n",
            "/weather/1275339/day1\n",
            "#orb-modules\n",
            "/weather/warnings/weather\n",
            "/weather/warnings/floods\n",
            "/weather/outlook\n",
            "/weather/coast-and-sea\n",
            "/weather/about/17185651\n",
            "/weather/about/17543675\n",
            "https://www.meteogroup.com\n",
            "https://public.wmo.int/en-GB\n",
            "http://www.metoffice.gov.uk\n",
            "http://www.meteogroup.com/\n",
            "https://www.bbc.co.uk\n",
            "https://www.bbc.co.uk/news\n",
            "https://www.bbc.co.uk/sport\n",
            "https://www.bbc.co.uk/weather\n",
            "https://www.bbc.co.uk/iplayer\n",
            "https://www.bbc.co.uk/sounds\n",
            "https://www.bbc.co.uk/bitesize\n",
            "https://www.bbc.co.uk/cbeebies\n",
            "https://www.bbc.co.uk/cbbc\n",
            "https://www.bbc.co.uk/food\n",
            "https://www.bbc.com/\n",
            "https://www.bbc.com/news\n",
            "https://www.bbc.com/sport\n",
            "https://www.bbc.com/reel\n",
            "https://www.bbc.com/worklife\n",
            "https://www.bbc.com/travel\n",
            "https://www.bbc.com/future\n",
            "https://www.bbc.com/culture\n",
            "https://www.bbc.co.uk/schedules/p00fzl9m\n",
            "https://www.bbc.com/weather\n",
            "https://www.bbc.co.uk/sounds\n",
            "https://www.bbc.co.uk/usingthebbc/terms/\n",
            "https://www.bbc.co.uk/aboutthebbc\n",
            "https://www.bbc.co.uk/usingthebbc/privacy/\n",
            "https://www.bbc.com/usingthebbc/privacy/\n",
            "https://www.bbc.co.uk/usingthebbc/cookies/\n",
            "https://www.bbc.com/usingthebbc/cookies/\n",
            "https://www.bbc.co.uk/accessibility/\n",
            "https://www.bbc.co.uk/guidance\n",
            "https://www.bbc.co.uk/contact\n",
            "https://www.bbc.co.uk/contact/complaints/\n",
            "https://www.bbc.co.uk/bbcnewsletter\n",
            "https://www.bbcglobalnews.com/\n",
            "https://www.bbc.co.uk/editorialguidelines/guidance/feeds-and-links\n"
          ]
        }
      ]
    },
    {
      "cell_type": "code",
      "source": [
        "weatherURL = 'https://www.bbc.com/weather/1275339/'  # Mumbai\n",
        "def day_met_data():\n",
        "    \"\"\"\n",
        "    Scrap BBC portal on weather forecast and scrap the pages for weather forecast\n",
        "     at macro-level, i.e., granularity is at day.\n",
        "    \"\"\"\n",
        "\n",
        "    urls = ['today', 'day1', 'day2', 'day3', 'day4', 'day5', 'day6',\n",
        "            'day7', 'day8', 'day9', 'day10', 'day11', 'day12', 'day13']\n",
        "    urls = [weatherURL + url for url in urls]\n",
        "\n",
        "    day_met = []\n",
        "\n",
        "    day_count = -1\n",
        "    for url in urls:\n",
        "        day_count += 1\n",
        "        page = requests.get(url)\n",
        "        soup = bs(page.text, 'html.parser')\n",
        "        day = soup.find(class_ = \"wr-day--\" + str(day_count))\n",
        "\n",
        "        m = re.search(r'div aria-label=\"(?P<day>.*?)\"', str(day))\n",
        "        if m:\n",
        "            date = (m['day'])\n",
        "\n",
        "        weather_type = day.find(class_=\"wr-day__details__weather-type-description\").text\n",
        "\n",
        "        try:\n",
        "            high_temp = day.find(class_=\"wr-day-temperature__high-value\")\n",
        "            high_temp_C = high_temp.find(class_=\"wr-value--temperature--c\").text\n",
        "        except:\n",
        "            high_temp_C = 'Not Recorded'\n",
        "\n",
        "        try:\n",
        "            low_temp = day.find(class_=\"wr-day-temperature__low-value\")\n",
        "            low_temp_C = low_temp.find(class_=\"wr-value--temperature--c\").text\n",
        "        except:\n",
        "            low_temp_C = 'Not Recorded'\n",
        "\n",
        "        wind_speed = day.find(class_=\"wr-value--windspeed wr-value--windspeed--kph\").text\n",
        "\n",
        "        day, date = date.split()[0], ' '.join(date.split()[1:])\n",
        "        day_met.append([day, date + ', 2021', high_temp_C, low_temp_C, weather_type, wind_speed])\n",
        "\n",
        "    return day_met"
      ],
      "metadata": {
        "id": "PMCzJOnTL1OR"
      },
      "execution_count": null,
      "outputs": []
    },
    {
      "cell_type": "code",
      "source": [
        "df = pd.DataFrame(day_met_data(), columns=['day','date','high_temp','low_temp','weather_type','wind_speed'])\n",
        "df"
      ],
      "metadata": {
        "colab": {
          "base_uri": "https://localhost:8080/",
          "height": 488
        },
        "id": "HITerpOkL-sA",
        "outputId": "a111f88f-260a-46cb-b888-8e32f63b1263"
      },
      "execution_count": null,
      "outputs": [
        {
          "output_type": "execute_result",
          "data": {
            "text/plain": [
              "          day             date high_temp low_temp  \\\n",
              "0    Saturday   8th July, 2021       30°      26°   \n",
              "1      Sunday   9th July, 2021       30°      26°   \n",
              "2      Monday  10th July, 2021       30°      26°   \n",
              "3     Tuesday  11th July, 2021       30°      26°   \n",
              "4   Wednesday  12th July, 2021       30°      26°   \n",
              "5    Thursday  13th July, 2021       29°      26°   \n",
              "6      Friday  14th July, 2021       29°      26°   \n",
              "7    Saturday  15th July, 2021       29°      26°   \n",
              "8      Sunday  16th July, 2021       29°      26°   \n",
              "9      Monday  17th July, 2021       30°      26°   \n",
              "10    Tuesday  18th July, 2021       30°      26°   \n",
              "11  Wednesday  19th July, 2021       30°      26°   \n",
              "12   Thursday  20th July, 2021       29°      26°   \n",
              "13     Friday  21st July, 2021       29°      26°   \n",
              "\n",
              "                              weather_type wind_speed  \n",
              "0   Thundery showers and a moderate breeze    26 km/h  \n",
              "1   Thundery showers and a moderate breeze    24 km/h  \n",
              "2     Thundery showers and a gentle breeze    19 km/h  \n",
              "3     Thundery showers and a gentle breeze    17 km/h  \n",
              "4     Thundery showers and a gentle breeze    14 km/h  \n",
              "5     Thundery showers and a gentle breeze    14 km/h  \n",
              "6     Thundery showers and a gentle breeze    17 km/h  \n",
              "7     Thundery showers and a gentle breeze    16 km/h  \n",
              "8     Thundery showers and a gentle breeze    19 km/h  \n",
              "9   Thundery showers and a moderate breeze    21 km/h  \n",
              "10  Thundery showers and a moderate breeze    25 km/h  \n",
              "11  Thundery showers and a moderate breeze    24 km/h  \n",
              "12  Thundery showers and a moderate breeze    24 km/h  \n",
              "13  Thundery showers and a moderate breeze    24 km/h  "
            ],
            "text/html": [
              "\n",
              "  <div id=\"df-ea49d2cf-c798-4947-83f8-fe6c87f4d328\">\n",
              "    <div class=\"colab-df-container\">\n",
              "      <div>\n",
              "<style scoped>\n",
              "    .dataframe tbody tr th:only-of-type {\n",
              "        vertical-align: middle;\n",
              "    }\n",
              "\n",
              "    .dataframe tbody tr th {\n",
              "        vertical-align: top;\n",
              "    }\n",
              "\n",
              "    .dataframe thead th {\n",
              "        text-align: right;\n",
              "    }\n",
              "</style>\n",
              "<table border=\"1\" class=\"dataframe\">\n",
              "  <thead>\n",
              "    <tr style=\"text-align: right;\">\n",
              "      <th></th>\n",
              "      <th>day</th>\n",
              "      <th>date</th>\n",
              "      <th>high_temp</th>\n",
              "      <th>low_temp</th>\n",
              "      <th>weather_type</th>\n",
              "      <th>wind_speed</th>\n",
              "    </tr>\n",
              "  </thead>\n",
              "  <tbody>\n",
              "    <tr>\n",
              "      <th>0</th>\n",
              "      <td>Saturday</td>\n",
              "      <td>8th July, 2021</td>\n",
              "      <td>30°</td>\n",
              "      <td>26°</td>\n",
              "      <td>Thundery showers and a moderate breeze</td>\n",
              "      <td>26 km/h</td>\n",
              "    </tr>\n",
              "    <tr>\n",
              "      <th>1</th>\n",
              "      <td>Sunday</td>\n",
              "      <td>9th July, 2021</td>\n",
              "      <td>30°</td>\n",
              "      <td>26°</td>\n",
              "      <td>Thundery showers and a moderate breeze</td>\n",
              "      <td>24 km/h</td>\n",
              "    </tr>\n",
              "    <tr>\n",
              "      <th>2</th>\n",
              "      <td>Monday</td>\n",
              "      <td>10th July, 2021</td>\n",
              "      <td>30°</td>\n",
              "      <td>26°</td>\n",
              "      <td>Thundery showers and a gentle breeze</td>\n",
              "      <td>19 km/h</td>\n",
              "    </tr>\n",
              "    <tr>\n",
              "      <th>3</th>\n",
              "      <td>Tuesday</td>\n",
              "      <td>11th July, 2021</td>\n",
              "      <td>30°</td>\n",
              "      <td>26°</td>\n",
              "      <td>Thundery showers and a gentle breeze</td>\n",
              "      <td>17 km/h</td>\n",
              "    </tr>\n",
              "    <tr>\n",
              "      <th>4</th>\n",
              "      <td>Wednesday</td>\n",
              "      <td>12th July, 2021</td>\n",
              "      <td>30°</td>\n",
              "      <td>26°</td>\n",
              "      <td>Thundery showers and a gentle breeze</td>\n",
              "      <td>14 km/h</td>\n",
              "    </tr>\n",
              "    <tr>\n",
              "      <th>5</th>\n",
              "      <td>Thursday</td>\n",
              "      <td>13th July, 2021</td>\n",
              "      <td>29°</td>\n",
              "      <td>26°</td>\n",
              "      <td>Thundery showers and a gentle breeze</td>\n",
              "      <td>14 km/h</td>\n",
              "    </tr>\n",
              "    <tr>\n",
              "      <th>6</th>\n",
              "      <td>Friday</td>\n",
              "      <td>14th July, 2021</td>\n",
              "      <td>29°</td>\n",
              "      <td>26°</td>\n",
              "      <td>Thundery showers and a gentle breeze</td>\n",
              "      <td>17 km/h</td>\n",
              "    </tr>\n",
              "    <tr>\n",
              "      <th>7</th>\n",
              "      <td>Saturday</td>\n",
              "      <td>15th July, 2021</td>\n",
              "      <td>29°</td>\n",
              "      <td>26°</td>\n",
              "      <td>Thundery showers and a gentle breeze</td>\n",
              "      <td>16 km/h</td>\n",
              "    </tr>\n",
              "    <tr>\n",
              "      <th>8</th>\n",
              "      <td>Sunday</td>\n",
              "      <td>16th July, 2021</td>\n",
              "      <td>29°</td>\n",
              "      <td>26°</td>\n",
              "      <td>Thundery showers and a gentle breeze</td>\n",
              "      <td>19 km/h</td>\n",
              "    </tr>\n",
              "    <tr>\n",
              "      <th>9</th>\n",
              "      <td>Monday</td>\n",
              "      <td>17th July, 2021</td>\n",
              "      <td>30°</td>\n",
              "      <td>26°</td>\n",
              "      <td>Thundery showers and a moderate breeze</td>\n",
              "      <td>21 km/h</td>\n",
              "    </tr>\n",
              "    <tr>\n",
              "      <th>10</th>\n",
              "      <td>Tuesday</td>\n",
              "      <td>18th July, 2021</td>\n",
              "      <td>30°</td>\n",
              "      <td>26°</td>\n",
              "      <td>Thundery showers and a moderate breeze</td>\n",
              "      <td>25 km/h</td>\n",
              "    </tr>\n",
              "    <tr>\n",
              "      <th>11</th>\n",
              "      <td>Wednesday</td>\n",
              "      <td>19th July, 2021</td>\n",
              "      <td>30°</td>\n",
              "      <td>26°</td>\n",
              "      <td>Thundery showers and a moderate breeze</td>\n",
              "      <td>24 km/h</td>\n",
              "    </tr>\n",
              "    <tr>\n",
              "      <th>12</th>\n",
              "      <td>Thursday</td>\n",
              "      <td>20th July, 2021</td>\n",
              "      <td>29°</td>\n",
              "      <td>26°</td>\n",
              "      <td>Thundery showers and a moderate breeze</td>\n",
              "      <td>24 km/h</td>\n",
              "    </tr>\n",
              "    <tr>\n",
              "      <th>13</th>\n",
              "      <td>Friday</td>\n",
              "      <td>21st July, 2021</td>\n",
              "      <td>29°</td>\n",
              "      <td>26°</td>\n",
              "      <td>Thundery showers and a moderate breeze</td>\n",
              "      <td>24 km/h</td>\n",
              "    </tr>\n",
              "  </tbody>\n",
              "</table>\n",
              "</div>\n",
              "      <button class=\"colab-df-convert\" onclick=\"convertToInteractive('df-ea49d2cf-c798-4947-83f8-fe6c87f4d328')\"\n",
              "              title=\"Convert this dataframe to an interactive table.\"\n",
              "              style=\"display:none;\">\n",
              "        \n",
              "  <svg xmlns=\"http://www.w3.org/2000/svg\" height=\"24px\"viewBox=\"0 0 24 24\"\n",
              "       width=\"24px\">\n",
              "    <path d=\"M0 0h24v24H0V0z\" fill=\"none\"/>\n",
              "    <path d=\"M18.56 5.44l.94 2.06.94-2.06 2.06-.94-2.06-.94-.94-2.06-.94 2.06-2.06.94zm-11 1L8.5 8.5l.94-2.06 2.06-.94-2.06-.94L8.5 2.5l-.94 2.06-2.06.94zm10 10l.94 2.06.94-2.06 2.06-.94-2.06-.94-.94-2.06-.94 2.06-2.06.94z\"/><path d=\"M17.41 7.96l-1.37-1.37c-.4-.4-.92-.59-1.43-.59-.52 0-1.04.2-1.43.59L10.3 9.45l-7.72 7.72c-.78.78-.78 2.05 0 2.83L4 21.41c.39.39.9.59 1.41.59.51 0 1.02-.2 1.41-.59l7.78-7.78 2.81-2.81c.8-.78.8-2.07 0-2.86zM5.41 20L4 18.59l7.72-7.72 1.47 1.35L5.41 20z\"/>\n",
              "  </svg>\n",
              "      </button>\n",
              "      \n",
              "  <style>\n",
              "    .colab-df-container {\n",
              "      display:flex;\n",
              "      flex-wrap:wrap;\n",
              "      gap: 12px;\n",
              "    }\n",
              "\n",
              "    .colab-df-convert {\n",
              "      background-color: #E8F0FE;\n",
              "      border: none;\n",
              "      border-radius: 50%;\n",
              "      cursor: pointer;\n",
              "      display: none;\n",
              "      fill: #1967D2;\n",
              "      height: 32px;\n",
              "      padding: 0 0 0 0;\n",
              "      width: 32px;\n",
              "    }\n",
              "\n",
              "    .colab-df-convert:hover {\n",
              "      background-color: #E2EBFA;\n",
              "      box-shadow: 0px 1px 2px rgba(60, 64, 67, 0.3), 0px 1px 3px 1px rgba(60, 64, 67, 0.15);\n",
              "      fill: #174EA6;\n",
              "    }\n",
              "\n",
              "    [theme=dark] .colab-df-convert {\n",
              "      background-color: #3B4455;\n",
              "      fill: #D2E3FC;\n",
              "    }\n",
              "\n",
              "    [theme=dark] .colab-df-convert:hover {\n",
              "      background-color: #434B5C;\n",
              "      box-shadow: 0px 1px 3px 1px rgba(0, 0, 0, 0.15);\n",
              "      filter: drop-shadow(0px 1px 2px rgba(0, 0, 0, 0.3));\n",
              "      fill: #FFFFFF;\n",
              "    }\n",
              "  </style>\n",
              "\n",
              "      <script>\n",
              "        const buttonEl =\n",
              "          document.querySelector('#df-ea49d2cf-c798-4947-83f8-fe6c87f4d328 button.colab-df-convert');\n",
              "        buttonEl.style.display =\n",
              "          google.colab.kernel.accessAllowed ? 'block' : 'none';\n",
              "\n",
              "        async function convertToInteractive(key) {\n",
              "          const element = document.querySelector('#df-ea49d2cf-c798-4947-83f8-fe6c87f4d328');\n",
              "          const dataTable =\n",
              "            await google.colab.kernel.invokeFunction('convertToInteractive',\n",
              "                                                     [key], {});\n",
              "          if (!dataTable) return;\n",
              "\n",
              "          const docLinkHtml = 'Like what you see? Visit the ' +\n",
              "            '<a target=\"_blank\" href=https://colab.research.google.com/notebooks/data_table.ipynb>data table notebook</a>'\n",
              "            + ' to learn more about interactive tables.';\n",
              "          element.innerHTML = '';\n",
              "          dataTable['output_type'] = 'display_data';\n",
              "          await google.colab.output.renderOutput(dataTable, element);\n",
              "          const docLink = document.createElement('div');\n",
              "          docLink.innerHTML = docLinkHtml;\n",
              "          element.appendChild(docLink);\n",
              "        }\n",
              "      </script>\n",
              "    </div>\n",
              "  </div>\n",
              "  "
            ]
          },
          "metadata": {},
          "execution_count": 11
        }
      ]
    },
    {
      "cell_type": "code",
      "source": [
        "weatherURL = 'https://www.bbc.com/weather/1275339/'  # Mumbai\n",
        "\n",
        "def hourly_met():\n",
        "#     urls = ['today', 'day1', 'day2', 'day3', 'day4', 'day5', 'day6',\n",
        "#             'day7', 'day8', 'day9', 'day10', 'day11', 'day12', 'day13']\n",
        "    urls = ['day1', 'day2', 'day3', 'day4', 'day5', 'day6',\n",
        "            'day7', 'day8', 'day9', 'day10', 'day11', 'day12', 'day13']\n",
        "    urls = [weatherURL + url for url in urls]\n",
        "\n",
        "    hrly_met = []\n",
        "\n",
        "    day_count = -1\n",
        "    for url in urls[:1]: # for each day in the fortnight\n",
        "\n",
        "        print(url) #**\n",
        "\n",
        "        day_count += 1\n",
        "        # try:\n",
        "        page = requests.get(url)\n",
        "        soup = bs(page.text, 'html.parser')\n",
        "        # find the date\n",
        "        day = soup.find(class_ = \"wr-day--\" + str(day_count))\n",
        "\n",
        "        # print(day)  # **\n",
        "\n",
        "        m = re.search(r'div aria-label=\"(?P<day>.*?)\"', str(day))\n",
        "        if m:\n",
        "            date = (m['day'])\n",
        "        else:\n",
        "            date = np.NaN\n",
        "\n",
        "        print(date)\n",
        "\n",
        "        time_slots_list = soup.find('div',class_=\"wr-time-slot-list__item wr-time-slot-list__item--time-slots\")\n",
        "        ts_lists = time_slots_list.find_all('li', class_=\"wr-time-slot wr-js-time-slot \")\n",
        "\n",
        "        print(ts_lists)\n",
        "\n",
        "        ts_data = []\n",
        "        for ts_list in ts_lists:\n",
        "            today = re.sub('(\\d)(th|nd|st|rd)', r'\\1', date) + ' 2023'\n",
        "\n",
        "            ts_dict = {'date':today}\n",
        "            ts_dict['hour'] = ts_list.find(class_ = \"wr-time-slot-primary__hours\").text\n",
        "            ts_dict['minute'] = ts_list.find(class_ = \"wr-time-slot-primary__minutes\").text\n",
        "            ts_dict['wr_type'] = ts_list.find(class_ = \"wr-time-slot-primary__weather-type-description\").text\n",
        "            ts_dict['temp'] = ts_list.find(class_ = \"wr-value--temperature--c\").text\n",
        "            wind = ts_list.find(class_ = \"wr-value--windspeed wr-value--windspeed--kph\").text\n",
        "            ts_dict['precep'] = ts_list.find(class_ = \"wr-time-slot-secondary__chance-of-rain-value\").text\n",
        "            ts_dict['wind_dir'] = ts_list.find(class_ = \"wr-time-slot-secondary__wind-direction\").text\n",
        "\n",
        "            bottom_sec = ts_list.find_all(class_=\"wr-time-slot-secondary__bottom-section\")\n",
        "            for slots in bottom_sec:\n",
        "                try:\n",
        "                    for slot in slots:\n",
        "                        labels = slot.find_all('dt')\n",
        "                        values = slot.find_all('dd')\n",
        "                        for i in range(len(labels)):\n",
        "                            ts_dict[labels[i].text] = values[i].text\n",
        "                except:\n",
        "                    pass\n",
        "            ts_data.append(ts_dict)\n",
        "\n",
        "        for data in ts_data:\n",
        "            # increment the date after midnight\n",
        "            if data['hour'] < '06':\n",
        "                dow, day, month, year = data['date'].split()\n",
        "                day = str(int(day)+1)\n",
        "                data['date'] = ' '.join([dow, day, month, year])\n",
        "            hrly_met.append('\\t'.join(data.values()))\n",
        "        # except:\n",
        "        #     print('error')\n",
        "    return hrly_met\n",
        "\n",
        "hrly = hourly_met()"
      ],
      "metadata": {
        "colab": {
          "base_uri": "https://localhost:8080/"
        },
        "id": "K0r6a3euMBXr",
        "outputId": "9c9765dc-51c6-4dea-b356-4face7882c85"
      },
      "execution_count": null,
      "outputs": [
        {
          "output_type": "stream",
          "name": "stdout",
          "text": [
            "https://www.bbc.com/weather/1275339/day1\n",
            "Saturday 8th July\n",
            "[]\n"
          ]
        }
      ]
    },
    {
      "cell_type": "markdown",
      "source": [
        "# Image Processing"
      ],
      "metadata": {
        "id": "lNI0yROGzH4R"
      }
    },
    {
      "cell_type": "code",
      "source": [
        "import cv2\n",
        "from matplotlib import pyplot as plt\n",
        "import numpy as np\n",
        "\n",
        "import random\n",
        "from glob import glob"
      ],
      "metadata": {
        "id": "vr8tpF0agdTz"
      },
      "execution_count": null,
      "outputs": []
    },
    {
      "cell_type": "code",
      "source": [
        "from PIL import Image\n",
        "import os"
      ],
      "metadata": {
        "id": "WeZZTcA69Nxi"
      },
      "execution_count": null,
      "outputs": []
    },
    {
      "cell_type": "code",
      "source": [
        "from google.colab import drive\n",
        "drive.mount('/content/drive')"
      ],
      "metadata": {
        "colab": {
          "base_uri": "https://localhost:8080/"
        },
        "id": "wU0gf1L4eY1e",
        "outputId": "5d3159cc-bdbb-4caf-c414-035b1841d95a"
      },
      "execution_count": null,
      "outputs": [
        {
          "output_type": "stream",
          "name": "stdout",
          "text": [
            "Mounted at /content/drive\n"
          ]
        }
      ]
    },
    {
      "cell_type": "code",
      "source": [
        "filepath = ('/content/drive/MyDrive/practise/images')"
      ],
      "metadata": {
        "id": "lVnDN2DLejEr"
      },
      "execution_count": null,
      "outputs": []
    },
    {
      "cell_type": "code",
      "source": [
        "files = os.listdir(filepath)\n",
        "for file_name in files:\n",
        "    if file_name.endswith(('.png', '.jpg', '.jpeg', '.webp')):\n",
        "        file_path = os.path.join(filepath, file_name)\n",
        "        image = Image.open(file_path)\n",
        "        if image.mode != \"RGB\":\n",
        "            image = image.convert(\"RGB\")\n",
        "        output_path = os.path.join(filepath, file_name.split('.')[0] + \".jpg\")\n",
        "        image.save(output_path, \"JPEG\")\n",
        "        image.close()"
      ],
      "metadata": {
        "id": "MiBKaEQX9LhI"
      },
      "execution_count": null,
      "outputs": []
    },
    {
      "cell_type": "code",
      "source": [
        "images = glob('/content/drive/MyDrive/practise/images/*.jpg')"
      ],
      "metadata": {
        "id": "jSrP_n6dlJWC"
      },
      "execution_count": null,
      "outputs": []
    },
    {
      "cell_type": "code",
      "source": [
        "images"
      ],
      "metadata": {
        "colab": {
          "base_uri": "https://localhost:8080/"
        },
        "id": "Lbn1MIW7v-gd",
        "outputId": "22b2b0f3-a9a8-4a39-cd34-3ddb9cb4b27a"
      },
      "execution_count": null,
      "outputs": [
        {
          "output_type": "execute_result",
          "data": {
            "text/plain": [
              "['/content/drive/MyDrive/practise/images/Picture_013a.jpg',\n",
              " '/content/drive/MyDrive/practise/images/IMG_20230701_182250_LMC_Jeus_V98_8-8T-9R.jpg',\n",
              " '/content/drive/MyDrive/practise/images/IMG_20221124_164525738_HDR.jpg',\n",
              " '/content/drive/MyDrive/practise/images/1686934747285.jpg',\n",
              " '/content/drive/MyDrive/practise/images/SPOILER_IMG_20230501_174038_879.jpg',\n",
              " '/content/drive/MyDrive/practise/images/mine.jpg',\n",
              " '/content/drive/MyDrive/practise/images/image.jpg']"
            ]
          },
          "metadata": {},
          "execution_count": 61
        }
      ]
    },
    {
      "cell_type": "code",
      "source": [
        "r = random.randint(0, len(images)-1)\n",
        "image = cv2.imread(images[r])\n",
        "image1 = image[:, :, ::-1]"
      ],
      "metadata": {
        "id": "KQbz2lYXlMNq"
      },
      "execution_count": null,
      "outputs": []
    },
    {
      "cell_type": "code",
      "source": [
        "len(images)"
      ],
      "metadata": {
        "colab": {
          "base_uri": "https://localhost:8080/"
        },
        "id": "A3wOl6-gppec",
        "outputId": "1f999c55-95ea-4604-87a8-4e084feb02d9"
      },
      "execution_count": null,
      "outputs": [
        {
          "output_type": "execute_result",
          "data": {
            "text/plain": [
              "7"
            ]
          },
          "metadata": {},
          "execution_count": 64
        }
      ]
    },
    {
      "cell_type": "code",
      "source": [
        "print(type(image1))\n",
        "print(f\"ndim:\\t{image1.ndim}\")\n",
        "print(f\"shape:\\t{image1.shape}\")\n",
        "print(f\"size:\\t{image1.size}\")\n",
        "print()\n",
        "\n",
        "print(f\"height:\\t\\t{image1.shape[0]} pixels\")\n",
        "print(f\"width:\\t\\t{image1.shape[1]} pixels\")\n",
        "print(f\"channels:\\t  {image1.shape[2]}\")"
      ],
      "metadata": {
        "colab": {
          "base_uri": "https://localhost:8080/"
        },
        "id": "6N-8BuuLBbEg",
        "outputId": "d5d7e5d9-b231-4760-88c1-191f1185c661"
      },
      "execution_count": null,
      "outputs": [
        {
          "output_type": "stream",
          "name": "stdout",
          "text": [
            "<class 'numpy.ndarray'>\n",
            "ndim:\t3\n",
            "shape:\t(1121, 839, 3)\n",
            "size:\t2821557\n",
            "\n",
            "height:\t\t1121 pixels\n",
            "width:\t\t839 pixels\n",
            "channels:\t  3\n"
          ]
        }
      ]
    },
    {
      "cell_type": "code",
      "source": [
        "print(image1[:2])\n",
        "print(image1[-2:])"
      ],
      "metadata": {
        "colab": {
          "base_uri": "https://localhost:8080/"
        },
        "id": "ZQZ1gdqBB802",
        "outputId": "4cb32b73-6db5-4e4b-b72d-beaaccc9442f"
      },
      "execution_count": null,
      "outputs": [
        {
          "output_type": "stream",
          "name": "stdout",
          "text": [
            "[[[ 54 115 170]\n",
            "  [ 54 115 170]\n",
            "  [ 54 115 170]\n",
            "  ...\n",
            "  [ 52 107 171]\n",
            "  [ 51 106 170]\n",
            "  [ 49 104 168]]\n",
            "\n",
            " [[ 54 115 170]\n",
            "  [ 54 115 170]\n",
            "  [ 54 115 170]\n",
            "  ...\n",
            "  [ 53 108 172]\n",
            "  [ 52 107 171]\n",
            "  [ 50 105 169]]]\n",
            "[[[145 157 147]\n",
            "  [143 156 147]\n",
            "  [130 149 145]\n",
            "  ...\n",
            "  [ 12   5  12]\n",
            "  [ 11   4  11]\n",
            "  [  9   2   9]]\n",
            "\n",
            " [[151 156 149]\n",
            "  [143 152 147]\n",
            "  [125 144 142]\n",
            "  ...\n",
            "  [ 11   4  11]\n",
            "  [  9   2   9]\n",
            "  [  9   2   9]]]\n"
          ]
        }
      ]
    },
    {
      "cell_type": "code",
      "source": [
        "R = image[:, :, 0]\n",
        "G = image[:, :, 1]\n",
        "B = image[:, :, 2]\n",
        "\n",
        "print(R.shape, G.shape, B.shape)"
      ],
      "metadata": {
        "colab": {
          "base_uri": "https://localhost:8080/"
        },
        "id": "zzpDebu3B-7Q",
        "outputId": "ac70d624-d5cd-4ef2-92b0-5c43bd96ff7d"
      },
      "execution_count": null,
      "outputs": [
        {
          "output_type": "stream",
          "name": "stdout",
          "text": [
            "(1121, 839) (1121, 839) (1121, 839)\n"
          ]
        }
      ]
    },
    {
      "cell_type": "code",
      "source": [
        "print(G[:5])\n",
        "print(G[-5:])\n",
        "print(R[:5])\n",
        "print(R[-5:])\n",
        "print(B[:5])\n",
        "print(B[-5:])"
      ],
      "metadata": {
        "colab": {
          "base_uri": "https://localhost:8080/"
        },
        "id": "mudvQr7fEAbJ",
        "outputId": "ad2ee6e7-e62a-4504-a3e1-53583fe64623"
      },
      "execution_count": null,
      "outputs": [
        {
          "output_type": "stream",
          "name": "stdout",
          "text": [
            "[[115 115 115 ... 107 106 104]\n",
            " [115 115 115 ... 108 107 105]\n",
            " [115 115 115 ... 109 108 107]\n",
            " [115 115 115 ... 110 110 109]\n",
            " [115 115 115 ... 110 111 111]]\n",
            "[[139 126 150 ...   5   4   2]\n",
            " [151 128 142 ...   5   4   2]\n",
            " [159 142 140 ...   5   4   2]\n",
            " [157 156 149 ...   5   4   2]\n",
            " [156 152 144 ...   4   2   2]]\n",
            "[[170 170 170 ... 171 170 168]\n",
            " [170 170 170 ... 172 171 169]\n",
            " [170 170 170 ... 173 172 171]\n",
            " [170 170 170 ... 174 174 173]\n",
            " [170 170 170 ... 174 175 175]]\n",
            "[[128 114 141 ...  12  11   9]\n",
            " [140 117 135 ...  12  11   9]\n",
            " [149 132 134 ...  12  11   9]\n",
            " [147 147 145 ...  12  11   9]\n",
            " [149 147 142 ...  11   9   9]]\n",
            "[[54 54 54 ... 52 51 49]\n",
            " [54 54 54 ... 53 52 50]\n",
            " [54 54 54 ... 54 53 52]\n",
            " [54 54 54 ... 55 55 54]\n",
            " [54 54 54 ... 55 56 56]]\n",
            "[[136 120 140 ...  12  11   9]\n",
            " [143 118 127 ...  12  11   9]\n",
            " [147 129 123 ...  12  11   9]\n",
            " [145 143 130 ...  12  11   9]\n",
            " [151 143 125 ...  11   9   9]]\n"
          ]
        }
      ]
    },
    {
      "cell_type": "code",
      "source": [
        "r = random.randint(0, len(images)-1)\n",
        "image = cv2.imread(images[r])\n",
        "fig, ax = plt.subplots(1,2)\n",
        "\n",
        "image = image[:, :, ::-1] # or image = image[:, :, (2, 1, 0)]\n",
        "image_A = image.copy()\n",
        "image_B = image.copy()\n",
        "\n",
        "ax[0].imshow(image_A);   # original image\n",
        "\n",
        "touch = 30\n",
        "image_B += touch            # add/subtract different values\n",
        "ax[1].imshow(image_B);\n",
        "\n",
        "plt.tight_layout();"
      ],
      "metadata": {
        "id": "wdmSGymdEC5y"
      },
      "execution_count": null,
      "outputs": []
    },
    {
      "cell_type": "code",
      "source": [
        "r = random.randint(0, len(images)-1)\n",
        "image = cv2.imread(images[r])\n",
        "\n",
        "fig, ax = plt.subplots(1,3)\n",
        "image = image[:, :, ::-1] # or image = image[:, :, (2, 1, 0)]\n",
        "\n",
        "image_C = image.copy()\n",
        "image_D = image.copy()\n",
        "image_E = image.copy()\n",
        "\n",
        "touch = 30\n",
        "\n",
        "image_C[:, :, 0] += touch   # change channels and values\n",
        "ax[0].imshow(image_C);\n",
        "\n",
        "image_C[:, :, 1] += touch+20   # change channels and values\n",
        "ax[1].imshow(image_D);\n",
        "\n",
        "image_C[:, :, 2] += touch+20   # change channels and values\n",
        "ax[2].imshow(image_E);\n",
        "\n",
        "plt.tight_layout();"
      ],
      "metadata": {
        "id": "h9Z2XcqKFPV8"
      },
      "execution_count": null,
      "outputs": []
    },
    {
      "cell_type": "code",
      "source": [
        "def increase_brightness(img, value=30):\n",
        "    hsv = cv2.cvtColor(img, cv2.COLOR_BGR2HSV)  # Hue, Saturation, Value\n",
        "    h, s, v = cv2.split(hsv)\n",
        "\n",
        "    lim = 255 - value\n",
        "    v[v > lim] = 255\n",
        "    v[v <= lim] += value\n",
        "\n",
        "    final_hsv = cv2.merge((h, s, v))\n",
        "    img = cv2.cvtColor(final_hsv, cv2.COLOR_HSV2BGR)\n",
        "    return img"
      ],
      "metadata": {
        "id": "0BOHTyUdFT93"
      },
      "execution_count": null,
      "outputs": []
    }
  ]
}